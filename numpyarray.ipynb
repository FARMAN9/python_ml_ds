{
 "cells": [
  {
   "cell_type": "code",
   "execution_count": 1,
   "id": "399bce06-fcc6-47e2-b638-1f24cc358163",
   "metadata": {},
   "outputs": [
    {
     "name": "stdin",
     "output_type": "stream",
     "text": [
      "enter your name  farman ali\n"
     ]
    },
    {
     "name": "stdout",
     "output_type": "stream",
     "text": [
      "farman ali\n"
     ]
    }
   ],
   "source": [
    "data= input(\"enter your name \")\n",
    "print(data)"
   ]
  },
  {
   "cell_type": "code",
   "execution_count": 71,
   "id": "69a82f02-e1e3-4cc1-8b23-5dcd70fec0fd",
   "metadata": {},
   "outputs": [
    {
     "name": "stdout",
     "output_type": "stream",
     "text": [
      "[1 2 3 4 5 6 7 8]\n",
      "1\n",
      "(8,)\n",
      "[[1 2]\n",
      " [3 4]\n",
      " [5 6]\n",
      " [7 8]]\n"
     ]
    }
   ],
   "source": [
    "import numpy as np\n",
    "oneD=np.array([1,2,3,4,5,6,7,8])\n",
    "print(oneD)\n",
    "print(oneD.ndim)\n",
    "print(oneD.shape)\n",
    "print(oneD.reshape(4,2))\n",
    "\n"
   ]
  },
  {
   "cell_type": "code",
   "execution_count": 13,
   "id": "ce115434-24ab-4a0d-8d73-8821c2d1c0f2",
   "metadata": {},
   "outputs": [
    {
     "name": "stdout",
     "output_type": "stream",
     "text": [
      "[[1 3 4]\n",
      " [5 6 7]]\n",
      "2\n"
     ]
    }
   ],
   "source": [
    "import numpy as np\n",
    "twoD=np.array([[1,3,4,],[5,6,7]])\n",
    "print(twoD)\n",
    "print(twoD.ndim)"
   ]
  },
  {
   "cell_type": "code",
   "execution_count": 12,
   "id": "59296b59-d07f-47e7-adc5-3199fa465666",
   "metadata": {},
   "outputs": [
    {
     "name": "stdout",
     "output_type": "stream",
     "text": [
      "[[[1 2 3]\n",
      "  [5 6 7]]]\n",
      "3\n"
     ]
    }
   ],
   "source": [
    "import numpy as np\n",
    "threeD=np.array([[[1,2,3],[5,6,7]]])\n",
    "print(threeD)\n",
    "print(threeD.ndim)"
   ]
  },
  {
   "cell_type": "code",
   "execution_count": 25,
   "id": "305b25f1-2058-488d-9fc1-5612941e366f",
   "metadata": {},
   "outputs": [
    {
     "name": "stdout",
     "output_type": "stream",
     "text": [
      "[1 2 3 4 5 6 7 8]\n",
      "1\n",
      "2\n",
      "[1 2 3 4 5 6 7 8]\n",
      "8\n",
      "[]\n"
     ]
    }
   ],
   "source": [
    "import numpy as np\n",
    "oneD=np.array([1,2,3,4,5,6,7,8])\n",
    "print(oneD)\n",
    "print(oneD.ndim)\n",
    "#indexing \n",
    "print(oneD[1])\n",
    "print(oneD[0:8])\n",
    "print(oneD[-1])\n",
    "print(oneD[-1:-9])\n",
    "\n"
   ]
  },
  {
   "cell_type": "code",
   "execution_count": 28,
   "id": "f1dceaeb-e153-46ce-a945-86c001611547",
   "metadata": {},
   "outputs": [
    {
     "name": "stdout",
     "output_type": "stream",
     "text": [
      "[[1 3 4]\n",
      " [5 6 7]]\n",
      "2\n",
      "[5 6 7]\n",
      "[1 3 4]\n",
      "7\n"
     ]
    }
   ],
   "source": [
    "import numpy as np\n",
    "twoD=np.array([[1,3,4,],[5,6,7]])\n",
    "print(twoD)\n",
    "print(twoD.ndim)\n",
    "print(twoD[1])\n",
    "print(twoD[0])\n",
    "print(twoD[1,2])#7\n"
   ]
  },
  {
   "cell_type": "code",
   "execution_count": 40,
   "id": "60f611f7-527f-4efc-8bc6-0102f5efc64a",
   "metadata": {},
   "outputs": [
    {
     "name": "stdout",
     "output_type": "stream",
     "text": [
      "[[[1 2 3]\n",
      "  [5 6 7]]\n",
      "\n",
      " [[0 9 3]\n",
      "  [9 6 0]]\n",
      "\n",
      " [[0 6 8]\n",
      "  [4 3 3]]]\n",
      "3\n",
      "index 0 [[1 2 3]\n",
      " [5 6 7]]\n",
      "index 1 [[0 9 3]\n",
      " [9 6 0]]\n",
      "index 2 [[0 6 8]\n",
      " [4 3 3]]\n",
      "index 2,1 [4 3 3]\n",
      "index 2,1,0 4\n",
      "index 2,1,0:1 [4]\n"
     ]
    }
   ],
   "source": [
    "import numpy as np\n",
    "threeD=np.array([[[1,2,3],[5,6,7]],[[0,9,3],[9,6,0]],[[0,6,8],[4,3,3]]])\n",
    "print(threeD)\n",
    "print(threeD.ndim)\n",
    "print(\"index 0\",threeD[0])\n",
    "print(\"index 1\",threeD[1])\n",
    "print(\"index 2\",threeD[2])\n",
    "print(\"index 2,1\",threeD[2,1])\n",
    "print(\"index 2,1,0\",threeD[2,1,0])\n",
    "print(\"index 2,1,0:1\",threeD[2,1,0:1])\n",
    "\n",
    "\n"
   ]
  },
  {
   "cell_type": "code",
   "execution_count": 45,
   "id": "55cc8f8c-b99b-457e-8b6d-1cbd4cd590fa",
   "metadata": {},
   "outputs": [
    {
     "name": "stdout",
     "output_type": "stream",
     "text": [
      "[1 3 4]\n",
      "[5 6 7]\n",
      "1\n",
      "3\n",
      "4\n",
      "5\n",
      "6\n",
      "7\n",
      "1\n",
      "2\n",
      "3\n",
      "5\n",
      "6\n",
      "7\n",
      "0\n",
      "9\n",
      "3\n",
      "9\n",
      "6\n",
      "0\n",
      "0\n",
      "6\n",
      "8\n",
      "4\n",
      "3\n",
      "3\n"
     ]
    }
   ],
   "source": [
    "import numpy as np\n",
    "twoD=np.array([[1,3,4,],[5,6,7]])\n",
    "\n",
    "for i in twoD:\n",
    "    print(i)\n",
    "\n",
    "for i in twoD:\n",
    "    for x in i:\n",
    "        print(x)\n",
    "\n",
    "\n",
    "threeD=np.array([[[1,2,3],[5,6,7]],[[0,9,3],[9,6,0]],[[0,6,8],[4,3,3]]])\n",
    "for i in threeD:\n",
    "    for x in i:\n",
    "        for y in x:\n",
    "            print(y)\n",
    "            \n",
    "    "
   ]
  },
  {
   "cell_type": "code",
   "execution_count": 56,
   "id": "02f6c442-e271-4ee7-8567-e602ac43d282",
   "metadata": {},
   "outputs": [
    {
     "name": "stdout",
     "output_type": "stream",
     "text": [
      "[0. 0. 0. 0. 0. 0. 0. 0. 0. 0.]\n",
      "[1. 1. 1. 1. 1. 1. 1. 1. 1. 1.]\n",
      "[1 1 1 1 1 1 1 1 1 1]\n",
      "[1. 1. 1. 1. 1. 1. 1. 1. 1. 1.]\n",
      "[2 2 2 2 2 2 2 2 2 2 2 2 2 2 2 2 2 2 2 2 2 2 2 2 2 2 2 2 2 2 2 2 2 2 2 2 2\n",
      " 2 2 2 2 2 2 2 2 2 2 2 2 2 2 2 2 2 2 2 2 2 2 2 2 2 2 2 2 2 2 2 2 2 2 2 2 2\n",
      " 2 2 2 2 2 2 2 2 2 2 2 2 2 2 2 2 2 2 2 2 2 2 2 2 2 2]\n"
     ]
    }
   ],
   "source": [
    "#zero array\n",
    "import numpy as np\n",
    "\n",
    "zeroarray=np.zeros(10)\n",
    "print(zeroarray)\n",
    "onesarr=np.ones(10)\n",
    "print(onesarr)\n",
    "onesarr=onesarr.astype(int)\n",
    "print(onesarr)\n",
    "onesarr=onesarr.astype(float)\n",
    "print(onesarr)\n",
    "#prefull with what you want \n",
    "onesarr=np.full(100,2)\n",
    "print(onesarr)\n",
    "\n",
    "\n",
    "\n",
    "\n"
   ]
  },
  {
   "cell_type": "code",
   "execution_count": 82,
   "id": "9770617b-b718-4453-8a7f-660e2dd5dd13",
   "metadata": {},
   "outputs": [
    {
     "name": "stdout",
     "output_type": "stream",
     "text": [
      "[[1 2 3 4]\n",
      " [8 6 5 3]]\n",
      "-----------------------\n",
      "[[ 3  4  5  6]\n",
      " [10  8  7  5]]\n",
      "-----------------------\n",
      "[[-3 -2 -1  0]\n",
      " [ 4  2  1 -1]]\n",
      "-----------------------\n",
      "[[ 4  8 12 16]\n",
      " [32 24 20 12]]\n",
      "-----------------------\n",
      "[[0.33333333 0.66666667 1.         1.33333333]\n",
      " [2.66666667 2.         1.66666667 1.        ]]\n",
      "-----------------------\n",
      "[[1 2 3 0]\n",
      " [0 2 1 3]]\n",
      "-----------------------\n",
      "[[ 1  4  9 16]\n",
      " [64 36 25  9]]\n",
      "-----------------------\n",
      "[[1 8]\n",
      " [2 6]\n",
      " [3 5]\n",
      " [4 3]]\n",
      "-----------------------\n",
      "[[ 2  4  6  8]\n",
      " [16 12 10  6]]\n",
      "-----------------------\n",
      "[[0 0 0 0]\n",
      " [0 0 0 0]]\n",
      "-----------------------\n",
      "[[1 1 1 1]\n",
      " [1 1 1 1]]\n",
      "-----------------------\n",
      "[[0 0 0 0]\n",
      " [0 0 0 0]]\n",
      "[[1 2 3 4]\n",
      " [8 6 5 3]]\n",
      "[[3 2 2 4]\n",
      " [8 6 5 9]]\n",
      "-----------------------\n",
      "[[ 3  4  6 16]\n",
      " [64 36 25 27]]\n",
      "-----------------------\n",
      "----------min---------- 1\n",
      "----------max---------- 8\n",
      "----------sum---------- 32\n",
      "----------mean---------- 4.0\n",
      "----------STD---------- 2.1213203435596424\n",
      "----------STD---------- 3.5\n"
     ]
    }
   ],
   "source": [
    "import numpy as np\n",
    "#matrix opration\n",
    "matrix=np.array([[1,2,3,4],[8,6,5,3]])\n",
    "print(matrix)\n",
    "print(\"-----------------------\")\n",
    "print(matrix+2)\n",
    "print(\"-----------------------\")\n",
    "print(matrix-4)\n",
    "print(\"-----------------------\")\n",
    "print(matrix*4)\n",
    "print(\"-----------------------\")\n",
    "print(matrix/3)\n",
    "print(\"-----------------------\")\n",
    "print(matrix%4)\n",
    "print(\"-----------------------\")\n",
    "print(matrix**2)\n",
    "#opration are done to every element\n",
    "print(\"-----------------------\")\n",
    "print(matrix.T)#transpose\n",
    "print(\"-----------------------\")\n",
    "print(matrix+matrix)\n",
    "\n",
    "print(\"-----------------------\")\n",
    "print(matrix-matrix)\n",
    "print(\"-----------------------\")\n",
    "print(matrix//matrix)\n",
    "print(\"-----------------------\")\n",
    "print(matrix%matrix)\n",
    "matrix=np.array([[1,2,3,4],[8,6,5,3]])\n",
    "print(matrix)\n",
    "matrix2=np.array([[3,2,2,4],[8,6,5,9]])\n",
    "print(matrix2)\n",
    "print(\"-----------------------\")\n",
    "print(matrix*matrix2)\n",
    "\n",
    "print(\"-----------------------\")\n",
    "#np.matmul(matrix,matrix2)\n",
    "print(\"----------min----------\",np.min(matrix))\n",
    "\n",
    "print(\"----------max----------\",np.max(matrix))\n",
    "\n",
    "print(\"----------sum----------\",np.sum(matrix))\n",
    "print(\"----------mean----------\",np.mean(matrix))\n",
    "print(\"----------STD----------\",np.std(matrix))\n",
    "print(\"----------median----------\",np.median(matrix))\n",
    "\n",
    "\n",
    "\n",
    "\n",
    "\n",
    "\n"
   ]
  },
  {
   "cell_type": "code",
   "execution_count": null,
   "id": "68770e41-1505-4779-9177-fd5cf53d64f7",
   "metadata": {},
   "outputs": [],
   "source": []
  }
 ],
 "metadata": {
  "kernelspec": {
   "display_name": "Python 3 (ipykernel)",
   "language": "python",
   "name": "python3"
  },
  "language_info": {
   "codemirror_mode": {
    "name": "ipython",
    "version": 3
   },
   "file_extension": ".py",
   "mimetype": "text/x-python",
   "name": "python",
   "nbconvert_exporter": "python",
   "pygments_lexer": "ipython3",
   "version": "3.12.2"
  }
 },
 "nbformat": 4,
 "nbformat_minor": 5
}
