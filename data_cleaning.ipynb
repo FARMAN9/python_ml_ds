{
 "cells": [
  {
   "cell_type": "code",
   "execution_count": 23,
   "id": "f3a3f894-487b-4b18-ad62-fdc52e107d68",
   "metadata": {},
   "outputs": [],
   "source": [
    "#data anonmally outlyer\n",
    "#Median-based Anomaly Detection\n",
    "\n",
    "import pandas as pd\n",
    "import numpy as np \n"
   ]
  },
  {
   "cell_type": "code",
   "execution_count": 24,
   "id": "1c76701f-4e5a-411c-913d-6e67d900e0e5",
   "metadata": {},
   "outputs": [
    {
     "data": {
      "text/plain": [
       "0    2.1\n",
       "1    2.3\n",
       "2    4.5\n",
       "3    2.3\n",
       "4    2.9\n",
       "dtype: float64"
      ]
     },
     "execution_count": 24,
     "metadata": {},
     "output_type": "execute_result"
    }
   ],
   "source": [
    "X = pd.Series([2.1, 2.3, 4.5, 2.3, 2.9])\n",
    "X"
   ]
  },
  {
   "cell_type": "code",
   "execution_count": 25,
   "id": "4b758ebf-7d77-4471-b840-0f09a8e88954",
   "metadata": {},
   "outputs": [
    {
     "data": {
      "text/plain": [
       "2.3"
      ]
     },
     "execution_count": 25,
     "metadata": {},
     "output_type": "execute_result"
    }
   ],
   "source": [
    "\n",
    "median=X.median()\n",
    "median"
   ]
  },
  {
   "cell_type": "code",
   "execution_count": null,
   "id": "eddd9a25-c118-404e-bb08-f5e06e838603",
   "metadata": {},
   "outputs": [],
   "source": [
    "std=np.std(x)\n",
    "std"
   ]
  },
  {
   "cell_type": "code",
   "execution_count": 26,
   "id": "ef8bcc14-eeea-42e2-90b8-750c1408fcde",
   "metadata": {},
   "outputs": [
    {
     "name": "stdout",
     "output_type": "stream",
     "text": [
      "[4.5]\n"
     ]
    }
   ],
   "source": [
    "thrashold=2\n",
    "outlier=[]\n",
    "\n",
    "\n",
    "for item in X:\n",
    "    if abs(item-median)> thrashold:\n",
    "        outlier.append(item)\n",
    "        print (outlier)\n",
    "        "
   ]
  },
  {
   "cell_type": "code",
   "execution_count": 27,
   "id": "7848989e-fc16-4da2-926f-4900b3dc8af4",
   "metadata": {},
   "outputs": [
    {
     "name": "stdout",
     "output_type": "stream",
     "text": [
      "[4.5]\n"
     ]
    }
   ],
   "source": [
    "print (outlier) #outlier"
   ]
  },
  {
   "cell_type": "code",
   "execution_count": 30,
   "id": "83715965-2e17-4ef3-bb2f-8f1f6cef8593",
   "metadata": {},
   "outputs": [
    {
     "data": {
      "text/plain": [
       "2.82"
      ]
     },
     "execution_count": 30,
     "metadata": {},
     "output_type": "execute_result"
    }
   ],
   "source": [
    "#Mean-based Anomaly Detection\n",
    "x = pd.Series([2.1, 2.3, 4.5, 2.3, 2.9])\n",
    "mean=np.mean(x)\n",
    "mean\n"
   ]
  },
  {
   "cell_type": "code",
   "execution_count": 31,
   "id": "a99906fa-f55f-4eba-bc8e-fbfc8a44c5ca",
   "metadata": {},
   "outputs": [
    {
     "data": {
      "text/plain": [
       "0.8818163074019442"
      ]
     },
     "execution_count": 31,
     "metadata": {},
     "output_type": "execute_result"
    }
   ],
   "source": [
    "std=np.std(x)\n",
    "std"
   ]
  },
  {
   "cell_type": "code",
   "execution_count": 32,
   "id": "11a0905f-efad-4b02-868e-f761c8354282",
   "metadata": {},
   "outputs": [
    {
     "name": "stdout",
     "output_type": "stream",
     "text": [
      "[4.5]\n"
     ]
    }
   ],
   "source": [
    "thrashold=2\n",
    "outlier=[]\n",
    "for item in x:\n",
    "    if (item < mean-std) or (item> mean+std):\n",
    "        outlier.append(item)\n",
    "        print (outlier)\n",
    "\n"
   ]
  },
  {
   "cell_type": "code",
   "execution_count": 34,
   "id": "08432802-e12e-4a08-902c-a86323087245",
   "metadata": {},
   "outputs": [
    {
     "name": "stdout",
     "output_type": "stream",
     "text": [
      "[]\n"
     ]
    },
    {
     "data": {
      "text/plain": [
       "[4.5]"
      ]
     },
     "execution_count": 34,
     "metadata": {},
     "output_type": "execute_result"
    }
   ],
   "source": [
    "#z score  based \n",
    "outlier=[]\n",
    "print(outlier)\n",
    "for item in x:\n",
    "    z_score=(item-mean)/std\n",
    "    if z_score > 1.5:\n",
    "        outlier.append(item)\n",
    "\n",
    "outlier\n",
    "    "
   ]
  },
  {
   "cell_type": "code",
   "execution_count": 38,
   "id": "b479bd1e-4acd-48ec-987a-b528b02e3031",
   "metadata": {},
   "outputs": [
    {
     "data": {
      "text/plain": [
       "[4.5]"
      ]
     },
     "execution_count": 38,
     "metadata": {},
     "output_type": "execute_result"
    }
   ],
   "source": [
    "import pandas as pd\n",
    "import numpy as np\n",
    "x = pd.Series([2.1, 2.3, 4.5, 2.2, 2.5])\n",
    "Q1, Q3 = np.percentile (x, [25,75])\n",
    "IQR = Q3 - Q1\n",
    "outliers =[]\n",
    "for item in x:\n",
    "   if item < (Q1-1.5*IQR) or item >(Q3 +1.5 * IQR):\n",
    "      outliers.append(item)\n",
    "outliers"
   ]
  },
  {
   "cell_type": "code",
   "execution_count": 47,
   "id": "808c7b6b-ea52-4ece-9359-809c479df931",
   "metadata": {},
   "outputs": [
    {
     "data": {
      "text/html": [
       "<div>\n",
       "<style scoped>\n",
       "    .dataframe tbody tr th:only-of-type {\n",
       "        vertical-align: middle;\n",
       "    }\n",
       "\n",
       "    .dataframe tbody tr th {\n",
       "        vertical-align: top;\n",
       "    }\n",
       "\n",
       "    .dataframe thead th {\n",
       "        text-align: right;\n",
       "    }\n",
       "</style>\n",
       "<table border=\"1\" class=\"dataframe\">\n",
       "  <thead>\n",
       "    <tr style=\"text-align: right;\">\n",
       "      <th></th>\n",
       "      <th>Name</th>\n",
       "      <th>Age</th>\n",
       "    </tr>\n",
       "  </thead>\n",
       "  <tbody>\n",
       "    <tr>\n",
       "      <th>0</th>\n",
       "      <td>Edison</td>\n",
       "      <td>28.0</td>\n",
       "    </tr>\n",
       "    <tr>\n",
       "      <th>1</th>\n",
       "      <td>Edward</td>\n",
       "      <td>27.0</td>\n",
       "    </tr>\n",
       "    <tr>\n",
       "      <th>2</th>\n",
       "      <td>James</td>\n",
       "      <td>NaN</td>\n",
       "    </tr>\n",
       "    <tr>\n",
       "      <th>3</th>\n",
       "      <td>Neesham</td>\n",
       "      <td>36.0</td>\n",
       "    </tr>\n",
       "  </tbody>\n",
       "</table>\n",
       "</div>"
      ],
      "text/plain": [
       "      Name   Age\n",
       "0   Edison  28.0\n",
       "1   Edward  27.0\n",
       "2    James   NaN\n",
       "3  Neesham  36.0"
      ]
     },
     "execution_count": 47,
     "metadata": {},
     "output_type": "execute_result"
    }
   ],
   "source": [
    "# missing data\n",
    "from numpy import NaN\n",
    "data1 = {'Name': ['Edison', 'Edward', 'James', 'Neesham'], 'Age': [28,27, NaN, 36]}\n",
    "data3=data = pd.DataFrame.from_dict(data1)\n",
    "data\n"
   ]
  },
  {
   "cell_type": "code",
   "execution_count": 48,
   "id": "afc3a32f-0824-4da7-9997-8b101dbbf1f1",
   "metadata": {},
   "outputs": [
    {
     "data": {
      "text/html": [
       "<div>\n",
       "<style scoped>\n",
       "    .dataframe tbody tr th:only-of-type {\n",
       "        vertical-align: middle;\n",
       "    }\n",
       "\n",
       "    .dataframe tbody tr th {\n",
       "        vertical-align: top;\n",
       "    }\n",
       "\n",
       "    .dataframe thead th {\n",
       "        text-align: right;\n",
       "    }\n",
       "</style>\n",
       "<table border=\"1\" class=\"dataframe\">\n",
       "  <thead>\n",
       "    <tr style=\"text-align: right;\">\n",
       "      <th></th>\n",
       "      <th>Name</th>\n",
       "      <th>Age</th>\n",
       "    </tr>\n",
       "  </thead>\n",
       "  <tbody>\n",
       "    <tr>\n",
       "      <th>0</th>\n",
       "      <td>False</td>\n",
       "      <td>False</td>\n",
       "    </tr>\n",
       "    <tr>\n",
       "      <th>1</th>\n",
       "      <td>False</td>\n",
       "      <td>False</td>\n",
       "    </tr>\n",
       "    <tr>\n",
       "      <th>2</th>\n",
       "      <td>False</td>\n",
       "      <td>True</td>\n",
       "    </tr>\n",
       "    <tr>\n",
       "      <th>3</th>\n",
       "      <td>False</td>\n",
       "      <td>False</td>\n",
       "    </tr>\n",
       "  </tbody>\n",
       "</table>\n",
       "</div>"
      ],
      "text/plain": [
       "    Name    Age\n",
       "0  False  False\n",
       "1  False  False\n",
       "2  False   True\n",
       "3  False  False"
      ]
     },
     "execution_count": 48,
     "metadata": {},
     "output_type": "execute_result"
    }
   ],
   "source": [
    "data.isnull()"
   ]
  },
  {
   "cell_type": "code",
   "execution_count": 49,
   "id": "572b18e2-fdb6-4b7d-80dd-c7831562b0c1",
   "metadata": {},
   "outputs": [
    {
     "data": {
      "text/plain": [
       "Name    0\n",
       "Age     1\n",
       "dtype: int64"
      ]
     },
     "execution_count": 49,
     "metadata": {},
     "output_type": "execute_result"
    }
   ],
   "source": [
    "data.isnull().sum()"
   ]
  },
  {
   "cell_type": "code",
   "execution_count": 50,
   "id": "41c2f024-5b20-498b-9d7c-6a6c4b3ed02e",
   "metadata": {},
   "outputs": [],
   "source": [
    "#dealing with missing value\n",
    "data.dropna(inplace=True)\n",
    "#drop that row which have missing value "
   ]
  },
  {
   "cell_type": "code",
   "execution_count": 51,
   "id": "b6413cea-74c2-4f12-8a43-8f6aa2cdf9be",
   "metadata": {},
   "outputs": [
    {
     "data": {
      "text/html": [
       "<div>\n",
       "<style scoped>\n",
       "    .dataframe tbody tr th:only-of-type {\n",
       "        vertical-align: middle;\n",
       "    }\n",
       "\n",
       "    .dataframe tbody tr th {\n",
       "        vertical-align: top;\n",
       "    }\n",
       "\n",
       "    .dataframe thead th {\n",
       "        text-align: right;\n",
       "    }\n",
       "</style>\n",
       "<table border=\"1\" class=\"dataframe\">\n",
       "  <thead>\n",
       "    <tr style=\"text-align: right;\">\n",
       "      <th></th>\n",
       "      <th>Name</th>\n",
       "      <th>Age</th>\n",
       "    </tr>\n",
       "  </thead>\n",
       "  <tbody>\n",
       "    <tr>\n",
       "      <th>0</th>\n",
       "      <td>Edison</td>\n",
       "      <td>28.0</td>\n",
       "    </tr>\n",
       "    <tr>\n",
       "      <th>1</th>\n",
       "      <td>Edward</td>\n",
       "      <td>27.0</td>\n",
       "    </tr>\n",
       "    <tr>\n",
       "      <th>3</th>\n",
       "      <td>Neesham</td>\n",
       "      <td>36.0</td>\n",
       "    </tr>\n",
       "  </tbody>\n",
       "</table>\n",
       "</div>"
      ],
      "text/plain": [
       "      Name   Age\n",
       "0   Edison  28.0\n",
       "1   Edward  27.0\n",
       "3  Neesham  36.0"
      ]
     },
     "execution_count": 51,
     "metadata": {},
     "output_type": "execute_result"
    }
   ],
   "source": [
    "data"
   ]
  },
  {
   "cell_type": "code",
   "execution_count": 53,
   "id": "71e27d76-a85a-4a0f-bd61-d2beba70997a",
   "metadata": {},
   "outputs": [
    {
     "data": {
      "text/html": [
       "<div>\n",
       "<style scoped>\n",
       "    .dataframe tbody tr th:only-of-type {\n",
       "        vertical-align: middle;\n",
       "    }\n",
       "\n",
       "    .dataframe tbody tr th {\n",
       "        vertical-align: top;\n",
       "    }\n",
       "\n",
       "    .dataframe thead th {\n",
       "        text-align: right;\n",
       "    }\n",
       "</style>\n",
       "<table border=\"1\" class=\"dataframe\">\n",
       "  <thead>\n",
       "    <tr style=\"text-align: right;\">\n",
       "      <th></th>\n",
       "      <th>Name</th>\n",
       "      <th>Age</th>\n",
       "    </tr>\n",
       "  </thead>\n",
       "  <tbody>\n",
       "    <tr>\n",
       "      <th>0</th>\n",
       "      <td>Edison</td>\n",
       "      <td>28.0</td>\n",
       "    </tr>\n",
       "    <tr>\n",
       "      <th>1</th>\n",
       "      <td>Edward</td>\n",
       "      <td>27.0</td>\n",
       "    </tr>\n",
       "    <tr>\n",
       "      <th>2</th>\n",
       "      <td>James</td>\n",
       "      <td>NaN</td>\n",
       "    </tr>\n",
       "    <tr>\n",
       "      <th>3</th>\n",
       "      <td>Neesham</td>\n",
       "      <td>36.0</td>\n",
       "    </tr>\n",
       "  </tbody>\n",
       "</table>\n",
       "</div>"
      ],
      "text/plain": [
       "      Name   Age\n",
       "0   Edison  28.0\n",
       "1   Edward  27.0\n",
       "2    James   NaN\n",
       "3  Neesham  36.0"
      ]
     },
     "execution_count": 53,
     "metadata": {},
     "output_type": "execute_result"
    }
   ],
   "source": [
    "from numpy import NaN\n",
    "data1 = {'Name': ['Edison', 'Edward', 'James', 'Neesham'], 'Age': [28,27, NaN, 36]}\n",
    "data3=data = pd.DataFrame.from_dict(data1)\n",
    "data"
   ]
  },
  {
   "cell_type": "code",
   "execution_count": 55,
   "id": "7b29add8-f898-4a23-943e-228b3bded05f",
   "metadata": {},
   "outputs": [
    {
     "data": {
      "text/plain": [
       "0    27.0\n",
       "Name: Age, dtype: float64"
      ]
     },
     "execution_count": 55,
     "metadata": {},
     "output_type": "execute_result"
    }
   ],
   "source": [
    "data['Age'].mode()"
   ]
  },
  {
   "cell_type": "code",
   "execution_count": 54,
   "id": "796169df-505c-46f3-ac56-63e560da750d",
   "metadata": {},
   "outputs": [
    {
     "name": "stderr",
     "output_type": "stream",
     "text": [
      "C:\\Users\\saeed\\AppData\\Local\\Temp\\ipykernel_1680\\2993724376.py:2: FutureWarning: A value is trying to be set on a copy of a DataFrame or Series through chained assignment using an inplace method.\n",
      "The behavior will change in pandas 3.0. This inplace method will never work because the intermediate object on which we are setting values always behaves as a copy.\n",
      "\n",
      "For example, when doing 'df[col].method(value, inplace=True)', try using 'df.method({col: value}, inplace=True)' or df[col] = df[col].method(value) instead, to perform the operation inplace on the original object.\n",
      "\n",
      "\n",
      "  data['Age'].fillna(data['Age'].mode()[0],inplace=True)\n"
     ]
    },
    {
     "data": {
      "text/html": [
       "<div>\n",
       "<style scoped>\n",
       "    .dataframe tbody tr th:only-of-type {\n",
       "        vertical-align: middle;\n",
       "    }\n",
       "\n",
       "    .dataframe tbody tr th {\n",
       "        vertical-align: top;\n",
       "    }\n",
       "\n",
       "    .dataframe thead th {\n",
       "        text-align: right;\n",
       "    }\n",
       "</style>\n",
       "<table border=\"1\" class=\"dataframe\">\n",
       "  <thead>\n",
       "    <tr style=\"text-align: right;\">\n",
       "      <th></th>\n",
       "      <th>Name</th>\n",
       "      <th>Age</th>\n",
       "    </tr>\n",
       "  </thead>\n",
       "  <tbody>\n",
       "    <tr>\n",
       "      <th>0</th>\n",
       "      <td>Edison</td>\n",
       "      <td>28.0</td>\n",
       "    </tr>\n",
       "    <tr>\n",
       "      <th>1</th>\n",
       "      <td>Edward</td>\n",
       "      <td>27.0</td>\n",
       "    </tr>\n",
       "    <tr>\n",
       "      <th>2</th>\n",
       "      <td>James</td>\n",
       "      <td>27.0</td>\n",
       "    </tr>\n",
       "    <tr>\n",
       "      <th>3</th>\n",
       "      <td>Neesham</td>\n",
       "      <td>36.0</td>\n",
       "    </tr>\n",
       "  </tbody>\n",
       "</table>\n",
       "</div>"
      ],
      "text/plain": [
       "      Name   Age\n",
       "0   Edison  28.0\n",
       "1   Edward  27.0\n",
       "2    James  27.0\n",
       "3  Neesham  36.0"
      ]
     },
     "execution_count": 54,
     "metadata": {},
     "output_type": "execute_result"
    }
   ],
   "source": [
    "#replace missing value \n",
    "data['Age'].fillna(data['Age'].mode()[0],inplace=True)\n",
    "data"
   ]
  },
  {
   "cell_type": "code",
   "execution_count": null,
   "id": "2d4c2502-ce0f-476e-a6d9-e79bd80f1f48",
   "metadata": {},
   "outputs": [],
   "source": [
    "#reguller expression \n",
    "import re "
   ]
  },
  {
   "cell_type": "code",
   "execution_count": null,
   "id": "7d8bf957-9228-4d8f-a2f6-45e87c493e8e",
   "metadata": {},
   "outputs": [],
   "source": []
  },
  {
   "cell_type": "code",
   "execution_count": 61,
   "id": "4aa74360-93f8-4a02-8256-f32aa0e1c7ae",
   "metadata": {},
   "outputs": [],
   "source": [
    "\n",
    "\n",
    "text=\"Python, created by Guido van Rossum in 1991, derives its name from the British comedy group Monty Python. Renowned for its simplicity and readability, Python's syntax emphasizes code clarity through significant whitespace. With a thriving community, Python boasts an extensive library ecosystem, catering to diverse domains like web development, data science, machine learning, and automation. Its popularity continues to soar, consistently ranking among top programming languages. Supported by frameworks like Django and Flask for web development, and tools such as NumPy, pandas, TensorFlow, and PyTorch, Python embodies versatility and ease of learning. It adheres to 'The Zen of Python,' a philosophy guiding programmers towards elegant code. Python's ubiquity spans across industry and academia, cementing its status as a powerhouse in the programming world.\" "
   ]
  },
  {
   "cell_type": "code",
   "execution_count": 65,
   "id": "df5f1e12-3646-4836-9c4e-056938a69978",
   "metadata": {},
   "outputs": [
    {
     "data": {
      "text/plain": [
       "['name']"
      ]
     },
     "execution_count": 65,
     "metadata": {},
     "output_type": "execute_result"
    }
   ],
   "source": [
    "#find screach \n",
    "x=re.findall('name from the British comedy group Monty Pytho',text)\n",
    "x"
   ]
  },
  {
   "cell_type": "code",
   "execution_count": 63,
   "id": "bc433953-aac0-4266-a85b-d321861843d6",
   "metadata": {},
   "outputs": [
    {
     "name": "stderr",
     "output_type": "stream",
     "text": [
      "<>:2: SyntaxWarning: invalid escape sequence '\\d'\n",
      "<>:2: SyntaxWarning: invalid escape sequence '\\d'\n",
      "C:\\Users\\saeed\\AppData\\Local\\Temp\\ipykernel_1680\\758419749.py:2: SyntaxWarning: invalid escape sequence '\\d'\n",
      "  x=re.findall('\\d',text)\n"
     ]
    },
    {
     "data": {
      "text/plain": [
       "['1', '9', '9', '1']"
      ]
     },
     "execution_count": 63,
     "metadata": {},
     "output_type": "execute_result"
    }
   ],
   "source": [
    "#find dights\n",
    "x=re.findall('\\d',text)\n",
    "x"
   ]
  },
  {
   "cell_type": "code",
   "execution_count": 66,
   "id": "7104ad57-90c2-42a1-a028-56109dacb01f",
   "metadata": {},
   "outputs": [
    {
     "name": "stderr",
     "output_type": "stream",
     "text": [
      "<>:1: SyntaxWarning: invalid escape sequence '\\d'\n",
      "<>:1: SyntaxWarning: invalid escape sequence '\\d'\n",
      "C:\\Users\\saeed\\AppData\\Local\\Temp\\ipykernel_1680\\1887652791.py:1: SyntaxWarning: invalid escape sequence '\\d'\n",
      "  x=re.findall('\\d+',text)\n"
     ]
    },
    {
     "data": {
      "text/plain": [
       "['1991']"
      ]
     },
     "execution_count": 66,
     "metadata": {},
     "output_type": "execute_result"
    }
   ],
   "source": [
    "x=re.findall('\\d+',text)\n",
    "x"
   ]
  },
  {
   "cell_type": "code",
   "execution_count": 81,
   "id": "bc940686-4607-4185-a360-3c2a10e39b1d",
   "metadata": {},
   "outputs": [
    {
     "data": {
      "text/plain": [
       "0     Pakistan\n",
       "1    Indonesia\n",
       "2       Jordan\n",
       "3     Pakistan\n",
       "4        India\n",
       "5         Iran\n",
       "dtype: object"
      ]
     },
     "execution_count": 81,
     "metadata": {},
     "output_type": "execute_result"
    }
   ],
   "source": [
    "import pandas as pd\n",
    "import re\n",
    "txtList = ['Pakistan', 'Indonesia', 'Jordan', 'Pakistan','India','Iran']\n",
    "txt = pd.Series (txtList)\n",
    "txt\n",
    "\n"
   ]
  },
  {
   "cell_type": "code",
   "execution_count": 83,
   "id": "51ed0c78-ffb8-498a-8310-c4eec506289d",
   "metadata": {},
   "outputs": [
    {
     "data": {
      "text/plain": [
       "['India']"
      ]
     },
     "execution_count": 83,
     "metadata": {},
     "output_type": "execute_result"
    }
   ],
   "source": [
    "dtype: object\n",
    "re.findall('India', txt.to_string())\n"
   ]
  },
  {
   "cell_type": "code",
   "execution_count": null,
   "id": "d74520d0-54d5-472f-a985-fe9c495cb00b",
   "metadata": {},
   "outputs": [],
   "source": [
    "#re.serach"
   ]
  },
  {
   "cell_type": "code",
   "execution_count": 88,
   "id": "04fb75fd-5153-4037-b407-e4bb5111ba27",
   "metadata": {},
   "outputs": [
    {
     "data": {
      "text/plain": [
       "<re.Match object; span=(6, 11), match='world'>"
      ]
     },
     "execution_count": 88,
     "metadata": {},
     "output_type": "execute_result"
    }
   ],
   "source": [
    "text='hello world'\n",
    "found_obj=re.search('world',text) #return object \n",
    "found_obj"
   ]
  },
  {
   "cell_type": "code",
   "execution_count": 91,
   "id": "0cbd3181-e1d5-49ba-872d-4418f43b75f0",
   "metadata": {},
   "outputs": [
    {
     "data": {
      "text/plain": [
       "(6, 11)"
      ]
     },
     "execution_count": 91,
     "metadata": {},
     "output_type": "execute_result"
    }
   ],
   "source": [
    "found_obj.span()\n"
   ]
  },
  {
   "cell_type": "code",
   "execution_count": null,
   "id": "c17bcca6-21c1-4430-8c07-f44887cec994",
   "metadata": {},
   "outputs": [],
   "source": [
    "#repace text in string \n",
    "\n"
   ]
  },
  {
   "cell_type": "code",
   "execution_count": 92,
   "id": "3569c261-cd60-4d89-a7d2-50057077db8f",
   "metadata": {},
   "outputs": [],
   "source": [
    "\n",
    "\n",
    "text=\"Python, created by Guido van Rossum in 1991, derives its name from the British comedy group Monty Python. Renowned for its simplicity and readability, Python's syntax emphasizes code clarity through significant whitespace. With a thriving community, Python boasts an extensive library ecosystem, catering to diverse domains like web development, data science, machine learning, and automation. Its popularity continues to soar, consistently ranking among top programming languages. Supported by frameworks like Django and Flask for web development, and tools such as NumPy, pandas, TensorFlow, and PyTorch, Python embodies versatility and ease of learning. It adheres to 'The Zen of Python,' a philosophy guiding programmers towards elegant code. Python's ubiquity spans across industry and academia, cementing its status as a powerhouse in the programming world.\" "
   ]
  },
  {
   "cell_type": "code",
   "execution_count": 94,
   "id": "4a18ce03-6782-46b5-a646-a04504c20f68",
   "metadata": {},
   "outputs": [
    {
     "data": {
      "text/plain": [
       "\"Python, created by Guido van Rossum in 1991, derives its name from the British comedy group Monty Python. Renowned for its simplicity and readability, Python's syntax emphasizes code clarity through significant whitespace. With a thriving community, Python boasts an extensive library ecosystem, catering to diverse domains like web development, data science, machine learning, and automation. Its popularity continues to soar, consistently ranking among top programming languages. Supported by frameworks like Django and Flask for web development, and tools such as NumPy, pandas, TensorFlow, and PyTorch, Python embodies versatility and ease of learning. It adheres to 'The Zen of Python,' a philosophy guiding programmers towards elegant code. Python's ubiquity spans across industry and academia, cementing its status as a powerhouse in the programming world.\""
      ]
     },
     "execution_count": 94,
     "metadata": {},
     "output_type": "execute_result"
    }
   ],
   "source": [
    "text"
   ]
  },
  {
   "cell_type": "code",
   "execution_count": 93,
   "id": "af23527c-55a7-44e6-974e-a3035818a546",
   "metadata": {},
   "outputs": [
    {
     "data": {
      "text/plain": [
       "\"Java, created by Guido van Rossum in 1991, derives its name from the British comedy group Monty Java. Renowned for its simplicity and readability, Java's syntax emphasizes code clarity through significant whitespace. With a thriving community, Java boasts an extensive library ecosystem, catering to diverse domains like web development, data science, machine learning, and automation. Its popularity continues to soar, consistently ranking among top programming languages. Supported by frameworks like Django and Flask for web development, and tools such as NumPy, pandas, TensorFlow, and PyTorch, Java embodies versatility and ease of learning. It adheres to 'The Zen of Java,' a philosophy guiding programmers towards elegant code. Java's ubiquity spans across industry and academia, cementing its status as a powerhouse in the programming world.\""
      ]
     },
     "execution_count": 93,
     "metadata": {},
     "output_type": "execute_result"
    }
   ],
   "source": [
    "re.sub(pattern='Python',repl='Java',string=text)"
   ]
  },
  {
   "cell_type": "code",
   "execution_count": null,
   "id": "af522b0e-1b7c-4520-b2dd-4df239a1e85b",
   "metadata": {},
   "outputs": [],
   "source": [
    "#https://regex101.com/is a very good website to create and test regular expressions.\n",
    "#We have also added some resources to learn more about regular expression in Python"
   ]
  }
 ],
 "metadata": {
  "kernelspec": {
   "display_name": "Python 3 (ipykernel)",
   "language": "python",
   "name": "python3"
  },
  "language_info": {
   "codemirror_mode": {
    "name": "ipython",
    "version": 3
   },
   "file_extension": ".py",
   "mimetype": "text/x-python",
   "name": "python",
   "nbconvert_exporter": "python",
   "pygments_lexer": "ipython3",
   "version": "3.12.2"
  }
 },
 "nbformat": 4,
 "nbformat_minor": 5
}
